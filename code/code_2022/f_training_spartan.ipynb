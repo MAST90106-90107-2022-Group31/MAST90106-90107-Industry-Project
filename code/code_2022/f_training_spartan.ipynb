{
 "cells": [
  {
   "cell_type": "code",
   "execution_count": 27,
   "metadata": {},
   "outputs": [],
   "source": [
    "import pandas as pd\n",
    "import numpy as np\n",
    "import matplotlib.pyplot as plt\n",
    "import datetime as dt\n",
    "from sklearn.metrics import roc_auc_score\n",
    "from sklearn.model_selection import RandomizedSearchCV\n",
    "from sklearn.feature_selection import SelectFromModel\n",
    "import warnings\n",
    "warnings.filterwarnings(\"ignore\", category=np.VisibleDeprecationWarning) "
   ]
  },
  {
   "cell_type": "code",
   "execution_count": 28,
   "metadata": {},
   "outputs": [],
   "source": [
    "from sklearn.model_selection import train_test_split\n",
    "from sklearn.ensemble import RandomForestClassifier\n",
    "from sklearn.linear_model import LogisticRegression\n",
    "from sklearn.svm import SVC\n",
    "from sklearn.ensemble import AdaBoostClassifier\n",
    "from sklearn.naive_bayes import MultinomialNB\n",
    "from sklearn.ensemble import GradientBoostingClassifier\n",
    "from sklearn.ensemble import StackingClassifier\n",
    "from sklearn.ensemble import VotingClassifier"
   ]
  },
  {
   "cell_type": "markdown",
   "metadata": {},
   "source": [
    "### Note: \n",
    "#### - Missing values in both training and testing datasets are replaced by mean"
   ]
  },
  {
   "cell_type": "code",
   "execution_count": 3,
   "metadata": {},
   "outputs": [],
   "source": [
    "# Read Datasets\n",
    "\n",
    "# train data\n",
    "train_EMTAB = pd.read_csv('train_EMTAB.csv')\n",
    "train_EMTAB = train_EMTAB.iloc[: , 1:]\n",
    "train_AMDTSS = pd.read_csv('train_AMDTSS.csv')\n",
    "train_AMDTSS = train_AMDTSS.iloc[: , 1:]\n",
    "train_DENMARK = pd.read_csv('train_DENMARK.csv')\n",
    "train_DENMARK = train_DENMARK.iloc[: , 1:]\n",
    "train_BSGS = pd.read_csv('train_BSGS.csv')\n",
    "train_BSGS = train_BSGS.iloc[: , 1:]\n",
    "train_ERISK = pd.read_csv('train_ERISK.csv')\n",
    "train_ERISK = train_ERISK.iloc[: , 1:]\n",
    "\n",
    "# test data\n",
    "test_EMTAB = pd.read_csv('test_EMTAB.csv')\n",
    "test_EMTAB = test_EMTAB.iloc[: , 1:]\n",
    "test_AMDTSS = pd.read_csv('test_AMDTSS.csv')\n",
    "test_AMDTSS = test_AMDTSS.iloc[: , 1:]\n",
    "test_DENMARK = pd.read_csv('test_DENMARK.csv')\n",
    "test_DENMARK = test_DENMARK.iloc[: , 1:]\n",
    "test_BSGS = pd.read_csv('test_BSGS.csv')\n",
    "test_BSGS = test_BSGS.iloc[: , 1:]\n",
    "test_ERISK = pd.read_csv('test_ERISK.csv')\n",
    "test_ERISK = test_ERISK.iloc[: , 1:]"
   ]
  },
  {
   "cell_type": "markdown",
   "metadata": {},
   "source": [
    "### Stacking & Voting"
   ]
  },
  {
   "cell_type": "code",
   "execution_count": 4,
   "metadata": {},
   "outputs": [],
   "source": [
    "# get a stacking ensemble of models\n",
    "def get_stacking():\n",
    "\t# define the base models\n",
    "\tlevel0 = list()\n",
    "\tlevel0.append(('lr', LogisticRegression(tol = 0.001, solver = 'sag', penalty = 'l2', C = 30)))\n",
    "\tlevel0.append(('rf', RandomForestClassifier(n_estimators = 500, min_impurity_decrease = 1e-06, max_depth = 50, criterion = 'gini')))\n",
    "\tlevel0.append(('gb', GradientBoostingClassifier(n_estimators = 300, max_depth = 5, learning_rate = 0.5)))\n",
    "\tlevel0.append(('svm', SVC(kernel = 'rbf', gamma = 'scale', degree = 1, decision_function_shape = 'ovr', C = 20)))\n",
    "\tlevel0.append(('mnb', MultinomialNB()))\n",
    "\t# define meta learner model\n",
    "\tlevel1 = LogisticRegression(tol = 0.001, solver = 'sag', penalty = 'l2', C = 30)\n",
    "\t# define the stacking ensemble\n",
    "\tmodel = StackingClassifier(estimators=level0, final_estimator=level1, cv=5)\n",
    "\treturn model"
   ]
  },
  {
   "cell_type": "markdown",
   "metadata": {},
   "source": [
    "# Training: E-Risk, BSGS, Denmark, AMDTSS\n",
    "# Testing: E-MTAB"
   ]
  },
  {
   "cell_type": "code",
   "execution_count": 5,
   "metadata": {},
   "outputs": [
    {
     "data": {
      "text/plain": [
       "((1684, 7524), (562, 7524), (1684,), (562,))"
      ]
     },
     "execution_count": 5,
     "metadata": {},
     "output_type": "execute_result"
    }
   ],
   "source": [
    "# Training 75% developing 25%\n",
    "x_train1, x_dev1, y_train1, y_dev1 = train_test_split(train_EMTAB.drop(columns=['label']), train_EMTAB['label'])\n",
    "x_train1.shape, x_dev1.shape, y_train1.shape, y_dev1.shape"
   ]
  },
  {
   "cell_type": "code",
   "execution_count": 6,
   "metadata": {},
   "outputs": [],
   "source": [
    "y_EMTAB = test_EMTAB['label']\n",
    "x_EMTAB = test_EMTAB.drop(columns = [\"label\"])"
   ]
  },
  {
   "cell_type": "code",
   "execution_count": 7,
   "metadata": {},
   "outputs": [
    {
     "name": "stderr",
     "output_type": "stream",
     "text": [
      "/Library/Frameworks/Python.framework/Versions/3.9/lib/python3.9/site-packages/sklearn/linear_model/_sag.py:328: ConvergenceWarning: The max_iter was reached which means the coef_ did not converge\n",
      "  warnings.warn(\"The max_iter was reached which means \"\n",
      "/Library/Frameworks/Python.framework/Versions/3.9/lib/python3.9/site-packages/sklearn/linear_model/_sag.py:328: ConvergenceWarning: The max_iter was reached which means the coef_ did not converge\n",
      "  warnings.warn(\"The max_iter was reached which means \"\n",
      "/Library/Frameworks/Python.framework/Versions/3.9/lib/python3.9/site-packages/sklearn/linear_model/_sag.py:328: ConvergenceWarning: The max_iter was reached which means the coef_ did not converge\n",
      "  warnings.warn(\"The max_iter was reached which means \"\n",
      "/Library/Frameworks/Python.framework/Versions/3.9/lib/python3.9/site-packages/sklearn/linear_model/_sag.py:328: ConvergenceWarning: The max_iter was reached which means the coef_ did not converge\n",
      "  warnings.warn(\"The max_iter was reached which means \"\n",
      "/Library/Frameworks/Python.framework/Versions/3.9/lib/python3.9/site-packages/sklearn/linear_model/_sag.py:328: ConvergenceWarning: The max_iter was reached which means the coef_ did not converge\n",
      "  warnings.warn(\"The max_iter was reached which means \"\n",
      "/Library/Frameworks/Python.framework/Versions/3.9/lib/python3.9/site-packages/sklearn/linear_model/_sag.py:328: ConvergenceWarning: The max_iter was reached which means the coef_ did not converge\n",
      "  warnings.warn(\"The max_iter was reached which means \"\n"
     ]
    },
    {
     "data": {
      "text/plain": [
       "0.9711891643709826"
      ]
     },
     "execution_count": 7,
     "metadata": {},
     "output_type": "execute_result"
    }
   ],
   "source": [
    "stacking_EMTAB = get_stacking()\n",
    "stacking_EMTAB.fit(x_train1, y_train1)\n",
    "stacking_EMTAB_auc = roc_auc_score(y_EMTAB, stacking_EMTAB.predict_proba(x_EMTAB)[:, 1])\n",
    "stacking_EMTAB_auc"
   ]
  },
  {
   "cell_type": "code",
   "execution_count": 8,
   "metadata": {},
   "outputs": [],
   "source": [
    "clf1 = LogisticRegression(tol = 0.001, solver = 'sag', penalty = 'l2', C = 30)\n",
    "clf2 = RandomForestClassifier(n_estimators = 500, min_impurity_decrease = 1e-06, max_depth = 50, criterion = 'gini')\n",
    "clf3 = GradientBoostingClassifier(n_estimators = 300, max_depth = 5, learning_rate = 0.5)\n",
    "clf4 = SVC(kernel = 'rbf', gamma = 'scale', degree = 1, decision_function_shape = 'ovr', C = 20, probability=True)"
   ]
  },
  {
   "cell_type": "code",
   "execution_count": 9,
   "metadata": {},
   "outputs": [
    {
     "name": "stderr",
     "output_type": "stream",
     "text": [
      "/Library/Frameworks/Python.framework/Versions/3.9/lib/python3.9/site-packages/sklearn/linear_model/_sag.py:328: ConvergenceWarning: The max_iter was reached which means the coef_ did not converge\n",
      "  warnings.warn(\"The max_iter was reached which means \"\n"
     ]
    },
    {
     "data": {
      "text/plain": [
       "0.9619490358126722"
      ]
     },
     "execution_count": 9,
     "metadata": {},
     "output_type": "execute_result"
    }
   ],
   "source": [
    "voting_EMTAB = VotingClassifier(estimators=[('lr', clf1), ('rf', clf2), ('gb', clf3), ('svc', clf4)], voting='soft')\n",
    "voting_EMTAB.fit(x_train1, y_train1)\n",
    "voting_EMTAB_auc = roc_auc_score(y_EMTAB, voting_EMTAB.predict_proba(x_EMTAB)[:, 1])\n",
    "voting_EMTAB_auc"
   ]
  },
  {
   "cell_type": "markdown",
   "metadata": {},
   "source": [
    "# Training: E-Risk, BSGS, Denmark, E-MTAB\n",
    "# Testing: AMDTSS"
   ]
  },
  {
   "cell_type": "code",
   "execution_count": 10,
   "metadata": {},
   "outputs": [
    {
     "data": {
      "text/plain": [
       "((1971, 6064), (658, 6064), (1971,), (658,))"
      ]
     },
     "execution_count": 10,
     "metadata": {},
     "output_type": "execute_result"
    }
   ],
   "source": [
    "# Training 75% developing 25%\n",
    "x_train2, x_dev2, y_train2, y_dev2 = train_test_split(train_AMDTSS.drop(columns=['label']), train_AMDTSS['label'])\n",
    "x_train2.shape, x_dev2.shape, y_train2.shape, y_dev2.shape"
   ]
  },
  {
   "cell_type": "code",
   "execution_count": 11,
   "metadata": {},
   "outputs": [],
   "source": [
    "y_AMDTSS = test_AMDTSS['label']\n",
    "x_AMDTSS = test_AMDTSS.drop(columns = [\"label\"])"
   ]
  },
  {
   "cell_type": "code",
   "execution_count": 12,
   "metadata": {},
   "outputs": [],
   "source": [
    "# stacking_AMDTSS = get_stacking()\n",
    "# stacking_AMDTSS.fit(x_train2, y_train2)\n",
    "# stacking_AMDTSS_auc = roc_auc_score(y_AMDTSS, stacking_AMDTSS.predict_proba(x_AMDTSS)[:, 1])\n",
    "# stacking_AMDTSS_auc"
   ]
  },
  {
   "cell_type": "code",
   "execution_count": 14,
   "metadata": {},
   "outputs": [
    {
     "name": "stderr",
     "output_type": "stream",
     "text": [
      "/Library/Frameworks/Python.framework/Versions/3.9/lib/python3.9/site-packages/sklearn/linear_model/_sag.py:328: ConvergenceWarning: The max_iter was reached which means the coef_ did not converge\n",
      "  warnings.warn(\"The max_iter was reached which means \"\n"
     ]
    },
    {
     "data": {
      "text/plain": [
       "0.621728650137741"
      ]
     },
     "execution_count": 14,
     "metadata": {},
     "output_type": "execute_result"
    }
   ],
   "source": [
    "voting_AMDTSS = VotingClassifier(estimators=[('lr', clf1), ('rf', clf2), ('gb', clf3), ('svc', clf4)], voting='soft')\n",
    "voting_AMDTSS.fit(x_train2, y_train2)\n",
    "voting_AMDTSS_auc = roc_auc_score(y_AMDTSS, voting_AMDTSS.predict_proba(x_AMDTSS)[:, 1])\n",
    "voting_AMDTSS_auc"
   ]
  },
  {
   "cell_type": "markdown",
   "metadata": {},
   "source": [
    "# Training: E-Risk, BSGS, AMDTSS, E-MTAB\n",
    "# Testing: Denmark"
   ]
  },
  {
   "cell_type": "code",
   "execution_count": 15,
   "metadata": {},
   "outputs": [
    {
     "data": {
      "text/plain": [
       "((2049, 6028), (684, 6028), (2049,), (684,))"
      ]
     },
     "execution_count": 15,
     "metadata": {},
     "output_type": "execute_result"
    }
   ],
   "source": [
    "# Training 75% developing 25%\n",
    "x_train3, x_dev3, y_train3, y_dev3 = train_test_split(train_DENMARK.drop(columns=['label']), train_DENMARK['label'])\n",
    "x_train3.shape, x_dev3.shape, y_train3.shape, y_dev3.shape"
   ]
  },
  {
   "cell_type": "code",
   "execution_count": 16,
   "metadata": {},
   "outputs": [],
   "source": [
    "y_DENMARK = test_DENMARK['label']\n",
    "x_DENMARK = test_DENMARK.drop(columns = [\"label\"])"
   ]
  },
  {
   "cell_type": "code",
   "execution_count": 17,
   "metadata": {},
   "outputs": [],
   "source": [
    "# stacking_DENMARK = get_stacking()\n",
    "# stacking_DENMARK.fit(x_train3, y_train3)\n",
    "# stacking_DENMARK_auc = roc_auc_score(y_DENMARK, stacking_DENMARK.predict_proba(x_DENMARK)[:, 1])\n",
    "# stacking_DENMARK_auc"
   ]
  },
  {
   "cell_type": "code",
   "execution_count": 18,
   "metadata": {},
   "outputs": [
    {
     "name": "stderr",
     "output_type": "stream",
     "text": [
      "/Library/Frameworks/Python.framework/Versions/3.9/lib/python3.9/site-packages/sklearn/linear_model/_sag.py:328: ConvergenceWarning: The max_iter was reached which means the coef_ did not converge\n",
      "  warnings.warn(\"The max_iter was reached which means \"\n"
     ]
    },
    {
     "data": {
      "text/plain": [
       "0.6574248120300752"
      ]
     },
     "execution_count": 18,
     "metadata": {},
     "output_type": "execute_result"
    }
   ],
   "source": [
    "voting_DENMARK = VotingClassifier(estimators=[('lr', clf1), ('rf', clf2), ('gb', clf3), ('svc', clf4)], voting='soft')\n",
    "voting_DENMARK.fit(x_train3, y_train3)\n",
    "voting_DENMARK_auc = roc_auc_score(y_DENMARK, voting_DENMARK.predict_proba(x_DENMARK)[:, 1])\n",
    "voting_DENMARK_auc"
   ]
  },
  {
   "cell_type": "markdown",
   "metadata": {},
   "source": [
    "# Training: E-Risk, AMDTSS, E-MTAB, Denmark\n",
    "# Testing: BSGS"
   ]
  },
  {
   "cell_type": "code",
   "execution_count": 19,
   "metadata": {},
   "outputs": [
    {
     "data": {
      "text/plain": [
       "((1901, 6498), (634, 6498), (1901,), (634,))"
      ]
     },
     "execution_count": 19,
     "metadata": {},
     "output_type": "execute_result"
    }
   ],
   "source": [
    "# Training 75% developing 25%\n",
    "x_train4, x_dev4, y_train4, y_dev4 = train_test_split(train_BSGS.drop(columns=['label']), train_BSGS['label'])\n",
    "x_train4.shape, x_dev4.shape, y_train4.shape, y_dev4.shape"
   ]
  },
  {
   "cell_type": "code",
   "execution_count": 20,
   "metadata": {},
   "outputs": [],
   "source": [
    "y_BSGS = test_BSGS['label']\n",
    "x_BSGS = test_BSGS.drop(columns = [\"label\"])"
   ]
  },
  {
   "cell_type": "code",
   "execution_count": 21,
   "metadata": {},
   "outputs": [],
   "source": [
    "# stacking_BSGS = get_stacking()\n",
    "# stacking_BSGS.fit(x_train4, y_train4)\n",
    "# stacking_BSGS_auc = roc_auc_score(y_BSGS, stacking_BSGS.predict_proba(x_BSGS)[:, 1])\n",
    "# stacking_BSGS_auc"
   ]
  },
  {
   "cell_type": "code",
   "execution_count": 22,
   "metadata": {},
   "outputs": [
    {
     "name": "stderr",
     "output_type": "stream",
     "text": [
      "/Library/Frameworks/Python.framework/Versions/3.9/lib/python3.9/site-packages/sklearn/linear_model/_sag.py:328: ConvergenceWarning: The max_iter was reached which means the coef_ did not converge\n",
      "  warnings.warn(\"The max_iter was reached which means \"\n"
     ]
    },
    {
     "data": {
      "text/plain": [
       "0.7956817804351438"
      ]
     },
     "execution_count": 22,
     "metadata": {},
     "output_type": "execute_result"
    }
   ],
   "source": [
    "voting_BSGS = VotingClassifier(estimators=[('lr', clf1), ('rf', clf2), ('gb', clf3), ('svc', clf4)], voting='soft')\n",
    "voting_BSGS.fit(x_train4, y_train4)\n",
    "voting_BSGS_auc = roc_auc_score(y_BSGS, voting_BSGS.predict_proba(x_BSGS)[:, 1])\n",
    "voting_BSGS_auc"
   ]
  },
  {
   "cell_type": "markdown",
   "metadata": {},
   "source": [
    "# Training: BSGS, AMDTSS, E-MTAB, Denmark\n",
    "# Testing: E-Risk"
   ]
  },
  {
   "cell_type": "code",
   "execution_count": 23,
   "metadata": {},
   "outputs": [
    {
     "data": {
      "text/plain": [
       "((1071, 14641), (358, 14641), (1071,), (358,))"
      ]
     },
     "execution_count": 23,
     "metadata": {},
     "output_type": "execute_result"
    }
   ],
   "source": [
    "# Training 75% developing 25%\n",
    "x_train5, x_dev5, y_train5, y_dev5 = train_test_split(train_ERISK.drop(columns=['label']), train_ERISK['label'])\n",
    "x_train5.shape, x_dev5.shape, y_train5.shape, y_dev5.shape"
   ]
  },
  {
   "cell_type": "code",
   "execution_count": 24,
   "metadata": {},
   "outputs": [],
   "source": [
    "y_ERISK = test_ERISK['label']\n",
    "x_ERISK = test_ERISK.drop(columns = [\"label\"])"
   ]
  },
  {
   "cell_type": "code",
   "execution_count": 25,
   "metadata": {},
   "outputs": [],
   "source": [
    "# stacking_ERISK = get_stacking()\n",
    "# stacking_ERISK.fit(x_train5, y_train5)\n",
    "# stacking_ERISK_auc = roc_auc_score(y_ERISK, stacking_ERISK.predict_proba(x_ERISK)[:, 1])\n",
    "# stacking_ERISK_auc"
   ]
  },
  {
   "cell_type": "code",
   "execution_count": 26,
   "metadata": {},
   "outputs": [
    {
     "name": "stderr",
     "output_type": "stream",
     "text": [
      "/Library/Frameworks/Python.framework/Versions/3.9/lib/python3.9/site-packages/sklearn/linear_model/_sag.py:328: ConvergenceWarning: The max_iter was reached which means the coef_ did not converge\n",
      "  warnings.warn(\"The max_iter was reached which means \"\n"
     ]
    },
    {
     "data": {
      "text/plain": [
       "0.6700343674245912"
      ]
     },
     "execution_count": 26,
     "metadata": {},
     "output_type": "execute_result"
    }
   ],
   "source": [
    "voting_ERISK = VotingClassifier(estimators=[('lr', clf1), ('rf', clf2), ('gb', clf3), ('svc', clf4)], voting='soft')\n",
    "voting_ERISK.fit(x_train5, y_train5)\n",
    "voting_ERISK_auc = roc_auc_score(y_ERISK, voting_ERISK.predict_proba(x_ERISK)[:, 1])\n",
    "voting_ERISK_auc"
   ]
  },
  {
   "cell_type": "code",
   "execution_count": null,
   "metadata": {},
   "outputs": [],
   "source": []
  }
 ],
 "metadata": {
  "interpreter": {
   "hash": "b8bdd4e700647ba2b08c59e5df8b7da1dcf50a218bcd4c1bcd9b3dc92e8788e5"
  },
  "kernelspec": {
   "display_name": "Python 3.9.2 64-bit",
   "language": "python",
   "name": "python3"
  },
  "language_info": {
   "codemirror_mode": {
    "name": "ipython",
    "version": 3
   },
   "file_extension": ".py",
   "mimetype": "text/x-python",
   "name": "python",
   "nbconvert_exporter": "python",
   "pygments_lexer": "ipython3",
   "version": "3.9.2"
  },
  "orig_nbformat": 4
 },
 "nbformat": 4,
 "nbformat_minor": 2
}
