{
 "cells": [
  {
   "cell_type": "code",
   "execution_count": null,
   "metadata": {},
   "outputs": [],
   "source": [
    "import pandas as pd\n",
    "import numpy as np\n",
    "import matplotlib.pyplot as plt\n",
    "import datetime as dt\n",
    "from sklearn.metrics import roc_auc_score, classification_report\n",
    "from sklearn.model_selection import RandomizedSearchCV\n",
    "from sklearn.feature_selection import SelectFromModel\n",
    "from sklearn import model_selection\n",
    "import warnings\n",
    "warnings.filterwarnings(\"ignore\", category=np.VisibleDeprecationWarning) "
   ]
  },
  {
   "cell_type": "code",
   "execution_count": null,
   "metadata": {},
   "outputs": [],
   "source": [
    "from sklearn.model_selection import train_test_split\n",
    "from sklearn.linear_model import LogisticRegression\n",
    "from sklearn.svm import SVC\n",
    "from sklearn.naive_bayes import GaussianNB\n",
    "from sklearn.ensemble import AdaBoostClassifier, GradientBoostingClassifier, StackingClassifier, VotingClassifier, RandomForestClassifier"
   ]
  },
  {
   "attachments": {},
   "cell_type": "markdown",
   "metadata": {},
   "source": [
    "# Read Datasets"
   ]
  },
  {
   "cell_type": "code",
   "execution_count": null,
   "metadata": {},
   "outputs": [],
   "source": [
    "# Read Datasets\n",
    "\n",
    "# 1658 * 834\n",
    "data_ERISK = pd.read_csv('ERisk_data.csv')\n",
    "# 1464 * 834\n",
    "data_ERISK = data_ERISK.dropna()\n",
    "\n",
    "# 614 rows × 834 columns\n",
    "data_BSGS = pd.read_csv('BSGS_data.csv')\n",
    "# 358 rows × 834 columns\n",
    "data_BSGS = data_BSGS[data_BSGS['label']!='0']\n",
    "data_BSGS['label'] = data_BSGS['label'].replace(['MZ','DZ'],[1,0])\n",
    "data_BSGS = data_BSGS.fillna(data_BSGS.mean())\n",
    "\n",
    "# 180 * 834\n",
    "data_DENMARK = pd.read_csv('DENMARK_data.csv')\n",
    "data_DENMARK['label'] = data_DENMARK['label'].replace([2],[0])\n",
    "\n",
    "# 479 * 832\n",
    "data_AMDTSS = pd.read_csv('AMDTSS_data.csv')\n",
    "# 264 * 832 - removing family members\n",
    "data_AMDTSS = data_AMDTSS[data_AMDTSS['label']!='Sister']\n",
    "data_AMDTSS['label'] = data_AMDTSS['label'].replace(['MZ','DZ'],[1,0])\n",
    "\n",
    "# 648 * 834\n",
    "data_EMTAB = pd.read_csv('EMTAB_data.csv')\n",
    "data_EMTAB['label'] = data_EMTAB['label'].replace(['dizygotic', 'monozygotic'],[0, 1])\n",
    "data_EMTAB = data_EMTAB.fillna(data_EMTAB.mean())"
   ]
  },
  {
   "cell_type": "code",
   "execution_count": null,
   "metadata": {},
   "outputs": [],
   "source": [
    "clfs = [RandomForestClassifier(),LogisticRegression(),SVC(),\n",
    "        AdaBoostClassifier(),SVC(),GaussianNB(), GradientBoostingClassifier()]"
   ]
  },
  {
   "cell_type": "code",
   "execution_count": null,
   "metadata": {},
   "outputs": [],
   "source": [
    "def do_multiple_10foldcrossvalidation(clfs,data,classifications):\n",
    "    for clf in clfs:\n",
    "        predictions = model_selection.cross_val_predict(clf, data,classifications, cv=10)\n",
    "        print (clf)\n",
    "        print (\"AUC: \")\n",
    "        print (roc_auc_score(classifications,predictions))\n",
    "        print (classification_report(classifications,predictions))"
   ]
  },
  {
   "attachments": {},
   "cell_type": "markdown",
   "metadata": {},
   "source": [
    "# Training: E-Risk, BSGS, Denmark, AMDTSS\n",
    "# Testing: E-MTAB"
   ]
  },
  {
   "cell_type": "code",
   "execution_count": 1,
   "metadata": {},
   "outputs": [
    {
     "ename": "NameError",
     "evalue": "name 'pd' is not defined",
     "output_type": "error",
     "traceback": [
      "\u001b[0;31m---------------------------------------------------------------------------\u001b[0m",
      "\u001b[0;31mNameError\u001b[0m                                 Traceback (most recent call last)",
      "Cell \u001b[0;32mIn[1], line 2\u001b[0m\n\u001b[1;32m      1\u001b[0m \u001b[39m#2202 * 834\u001b[39;00m\n\u001b[0;32m----> 2\u001b[0m train_data1 \u001b[39m=\u001b[39m pd\u001b[39m.\u001b[39mconcat([data_ERISK, data_BSGS, data_DENMARK])\n\u001b[1;32m      4\u001b[0m \u001b[39m# 2002 * 832\u001b[39;00m\n\u001b[1;32m      5\u001b[0m train_data1 \u001b[39m=\u001b[39m train_data1\u001b[39m.\u001b[39mloc[:,[i \u001b[39mfor\u001b[39;00m i \u001b[39min\u001b[39;00m data_AMDTSS\u001b[39m.\u001b[39mcolumns]]\n",
      "\u001b[0;31mNameError\u001b[0m: name 'pd' is not defined"
     ]
    }
   ],
   "source": [
    "#2202 * 834\n",
    "train_data1 = pd.concat([data_ERISK, data_BSGS, data_DENMARK])\n",
    "\n",
    "# 2002 * 832\n",
    "train_data1 = train_data1.loc[:,[i for i in data_AMDTSS.columns]]\n",
    "\n",
    "# 2530 * 832\n",
    "train_data1 = pd.concat([train_data1, data_AMDTSS])\n",
    "train_data1"
   ]
  },
  {
   "cell_type": "code",
   "execution_count": null,
   "metadata": {},
   "outputs": [],
   "source": [
    "# Training 75% developing 25%\n",
    "x_train1, x_dev1, y_train1, y_dev1 = train_test_split(train_data1.drop(columns=['label']), train_data1['label'])\n",
    "x_train1.shape, x_dev1.shape, y_train1.shape, y_dev1.shape"
   ]
  },
  {
   "cell_type": "code",
   "execution_count": null,
   "metadata": {},
   "outputs": [],
   "source": [
    "do_multiple_10foldcrossvalidation(clfs,x_train1,y_train1)"
   ]
  },
  {
   "attachments": {},
   "cell_type": "markdown",
   "metadata": {},
   "source": [
    "# Training: E-Risk, BSGS, Denmark, E-MTAB\n",
    "# Testing: AMDTSS"
   ]
  },
  {
   "cell_type": "code",
   "execution_count": null,
   "metadata": {},
   "outputs": [],
   "source": [
    "# 2650 * 834\n",
    "train_data2 = pd.concat([data_ERISK, data_BSGS, data_DENMARK, data_EMTAB])\n",
    "\n",
    "# 2650 * 832\n",
    "train_data2 = train_data2.loc[:,[i for i in data_AMDTSS.columns]]\n",
    "train_data2"
   ]
  },
  {
   "cell_type": "code",
   "execution_count": null,
   "metadata": {},
   "outputs": [],
   "source": [
    "# Training 75% developing 25%\n",
    "x_train2, x_dev2, y_train2, y_dev2 = train_test_split(train_data2.drop(columns=['label']), train_data2['label'])\n",
    "x_train2.shape, x_dev2.shape, y_train2.shape, y_dev2.shape"
   ]
  },
  {
   "cell_type": "code",
   "execution_count": null,
   "metadata": {},
   "outputs": [],
   "source": [
    "do_multiple_10foldcrossvalidation(clfs,x_train2,y_train2)"
   ]
  },
  {
   "attachments": {},
   "cell_type": "markdown",
   "metadata": {},
   "source": [
    "# Training: E-Risk, BSGS, AMDTSS, E-MTAB\n",
    "# Testing: Denmark"
   ]
  },
  {
   "cell_type": "code",
   "execution_count": null,
   "metadata": {},
   "outputs": [],
   "source": [
    "#2470 * 834\n",
    "train_data3 = pd.concat([data_ERISK, data_BSGS, data_EMTAB])\n",
    "\n",
    "# 2470 * 832\n",
    "train_data3 = train_data3.loc[:,[i for i in data_AMDTSS.columns]]\n",
    "\n",
    "# 2734 * 832\n",
    "train_data3 = pd.concat([train_data3, data_AMDTSS])\n",
    "train_data3"
   ]
  },
  {
   "cell_type": "code",
   "execution_count": null,
   "metadata": {},
   "outputs": [],
   "source": [
    "# Training 75% developing 25%\n",
    "x_train3, x_dev3, y_train3, y_dev3 = train_test_split(train_data3.drop(columns=['label']), train_data3['label'])\n",
    "x_train3.shape, x_dev3.shape, y_train3.shape, y_dev3.shape"
   ]
  },
  {
   "cell_type": "code",
   "execution_count": null,
   "metadata": {},
   "outputs": [],
   "source": [
    "do_multiple_10foldcrossvalidation(clfs,x_train3,y_train3)"
   ]
  },
  {
   "attachments": {},
   "cell_type": "markdown",
   "metadata": {},
   "source": [
    "# Training: E-Risk, AMDTSS, E-MTAB, Denmark\n",
    "# Testing: BSGS"
   ]
  },
  {
   "cell_type": "code",
   "execution_count": null,
   "metadata": {},
   "outputs": [],
   "source": [
    "#2292 * 834\n",
    "train_data4 = pd.concat([data_ERISK, data_DENMARK, data_EMTAB])\n",
    "\n",
    "# 2292 * 832\n",
    "train_data4 = train_data4.loc[:,[i for i in data_AMDTSS.columns]]\n",
    "\n",
    "# 2556 * 832\n",
    "train_data4 = pd.concat([train_data4, data_AMDTSS])\n",
    "train_data4"
   ]
  },
  {
   "cell_type": "code",
   "execution_count": null,
   "metadata": {},
   "outputs": [],
   "source": [
    "# Training 75% developing 25%\n",
    "x_train4, x_dev4, y_train4, y_dev4 = train_test_split(train_data4.drop(columns=['label']), train_data4['label'])\n",
    "x_train4.shape, x_dev4.shape, y_train4.shape, y_dev4.shape"
   ]
  },
  {
   "cell_type": "code",
   "execution_count": null,
   "metadata": {},
   "outputs": [],
   "source": [
    "do_multiple_10foldcrossvalidation(clfs,x_train4,y_train4)"
   ]
  },
  {
   "attachments": {},
   "cell_type": "markdown",
   "metadata": {},
   "source": [
    "# Training: BSGS, AMDTSS, E-MTAB, Denmark\n",
    "# Testing: E-Risk"
   ]
  },
  {
   "cell_type": "code",
   "execution_count": null,
   "metadata": {},
   "outputs": [],
   "source": [
    "# 1186 * 834\n",
    "train_data5 = pd.concat([data_BSGS, data_DENMARK, data_EMTAB])\n",
    "\n",
    "# 1186 * 832\n",
    "train_data5 = train_data5.loc[:,[i for i in data_AMDTSS.columns]]\n",
    "\n",
    "# 1450 * 832\n",
    "train_data5 = pd.concat([train_data5, data_AMDTSS])\n",
    "train_data5"
   ]
  },
  {
   "cell_type": "code",
   "execution_count": null,
   "metadata": {},
   "outputs": [],
   "source": [
    "# Training 75% developing 25%\n",
    "x_train5, x_dev5, y_train5, y_dev5 = train_test_split(train_data5.drop(columns=['label']), train_data5['label'])\n",
    "x_train5.shape, x_dev5.shape, y_train5.shape, y_dev5.shape"
   ]
  },
  {
   "cell_type": "code",
   "execution_count": null,
   "metadata": {},
   "outputs": [],
   "source": [
    "do_multiple_10foldcrossvalidation(clfs,x_train5,y_train5)"
   ]
  }
 ],
 "metadata": {
  "kernelspec": {
   "display_name": "Python 3",
   "language": "python",
   "name": "python3"
  },
  "language_info": {
   "codemirror_mode": {
    "name": "ipython",
    "version": 3
   },
   "file_extension": ".py",
   "mimetype": "text/x-python",
   "name": "python",
   "nbconvert_exporter": "python",
   "pygments_lexer": "ipython3",
   "version": "3.9.2"
  },
  "orig_nbformat": 4
 },
 "nbformat": 4,
 "nbformat_minor": 2
}
