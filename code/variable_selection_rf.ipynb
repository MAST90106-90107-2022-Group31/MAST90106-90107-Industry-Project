{
 "cells": [
  {
   "cell_type": "code",
   "execution_count": 23,
   "metadata": {},
   "outputs": [],
   "source": [
    "import pandas as pd\n",
    "import numpy as np\n",
    "import matplotlib.pyplot as plt\n",
    "import datetime as dt\n",
    "from sklearn.metrics import roc_auc_score\n",
    "from sklearn.model_selection import RandomizedSearchCV\n",
    "from sklearn.feature_selection import SelectFromModel\n",
    "import warnings\n",
    "warnings.filterwarnings(\"ignore\", category=np.VisibleDeprecationWarning)"
   ]
  },
  {
   "cell_type": "code",
   "execution_count": 24,
   "metadata": {},
   "outputs": [],
   "source": [
    "from sklearn.model_selection import train_test_split\n",
    "from sklearn.ensemble import RandomForestClassifier\n",
    "from sklearn.linear_model import LogisticRegression"
   ]
  },
  {
   "cell_type": "code",
   "execution_count": 32,
   "metadata": {},
   "outputs": [],
   "source": [
    "def variable_selection(train_data):\n",
    "    # Training 75% developing 25%\n",
    "    x_train, x_dev, y_train, y_dev = train_test_split(train_data.drop(columns=['zygosity']), train_data['zygosity'])\n",
    "    x_train.shape, x_dev.shape, y_train.shape, y_dev.shape\n",
    "\n",
    "    # # Grid search for rf\n",
    "    # # The number of trees in the forest.\n",
    "    # n_estimators = [50, 100, 200, 300, 500]\n",
    "    # # The function to measure the quality of a split\n",
    "    # criterion = [\"gini\", \"entropy\"]\n",
    "    # # A node will be split if this split induces a decrease of the impurity greater than or equal to this value.\n",
    "    # min_impurity_decrease = [0.1, 0.000001, 0.00001]\n",
    "    # # The maximum depth of the tree.\n",
    "    # max_depth = [20, 50, 100, 500, 1000]\n",
    "\n",
    "    # param_distributions = dict(n_estimators = n_estimators, criterion = criterion, min_impurity_decrease = min_impurity_decrease, max_depth = max_depth)\n",
    "    # rf = RandomForestClassifier()\n",
    "    # grid = RandomizedSearchCV(estimator = rf, param_distributions = param_distributions, scoring = \"roc_auc\",\n",
    "    #                         verbose = 1, n_jobs = -1) \n",
    "    # grid_result = grid.fit(x_train, y_train) \n",
    "\n",
    "    # print('Best Score: ', grid_result.best_score_) \n",
    "    # print('Best Params: ', grid_result.best_params_) \n",
    "\n",
    "    # Variable selection by random forest\n",
    "    rf_selection = SelectFromModel(RandomForestClassifier(n_estimators = 500, min_impurity_decrease = 1e-06, max_depth =  100, criterion = 'entropy'), threshold = \"3*mean\")\n",
    "    rf_selection.fit(x_train, y_train)\n",
    "\n",
    "    # selected variables\n",
    "    selected_feat_rf = x_train.columns[(rf_selection.get_support())]\n",
    "\n",
    "    return selected_feat_rf"
   ]
  },
  {
   "cell_type": "code",
   "execution_count": 26,
   "metadata": {},
   "outputs": [],
   "source": [
    "# Read Datasets\n",
    "data_ERISK = pd.read_csv('/data/gpfs/projects/punim1257/Group31/hzx/ERISK_ALL.csv')\n",
    "data_BSGS = pd.read_csv('/data/gpfs/projects/punim1257/Group31/hzx/BSGS_ALL.csv')\n",
    "data_BSGS = data_BSGS.fillna(data_BSGS.mean())\n",
    "data_DENMARK = pd.read_csv('/data/gpfs/projects/punim1257/Group31/hzx/DENMARK_ALL.csv')\n",
    "data_AMDTSS = pd.read_csv('/data/gpfs/projects/punim1257/Group31/hzx/AMDTSS_ALL.csv')\n",
    "data_EMTAB = pd.read_csv('/data/gpfs/projects/punim1257/Group31/hzx/EMTAB_ALL.csv')\n",
    "data_EMTAB = data_EMTAB.fillna(data_EMTAB.mean())"
   ]
  },
  {
   "cell_type": "markdown",
   "metadata": {},
   "source": [
    "## Training: E-Risk, BSGS, Denmark, AMDTSS\n",
    "## Testing: E-MTAB"
   ]
  },
  {
   "cell_type": "code",
   "execution_count": 34,
   "metadata": {},
   "outputs": [],
   "source": [
    "train_data_EMTAB = pd.concat([data_ERISK, data_BSGS, data_DENMARK, data_AMDTSS])\n",
    "selected_feat_rf_EMTAB = variable_selection(train_data_EMTAB)\n",
    "np.savetxt('selected_feat_rf_EMTAB.txt', selected_feat_rf_EMTAB,fmt='%s')"
   ]
  },
  {
   "cell_type": "markdown",
   "metadata": {},
   "source": [
    "## Training: E-Risk, BSGS, Denmark, E-MTAB\n",
    "## Testing: AMDTSS"
   ]
  },
  {
   "cell_type": "code",
   "execution_count": null,
   "metadata": {},
   "outputs": [],
   "source": [
    "train_data_AMDTSS = pd.concat([data_ERISK, data_BSGS, data_DENMARK, data_EMTAB])\n",
    "selected_feat_rf_AMDTSS = variable_selection(train_data_AMDTSS)\n",
    "np.savetxt('selected_feat_rf_AMDTSS.txt', selected_feat_rf_AMDTSS,fmt='%s')"
   ]
  },
  {
   "cell_type": "markdown",
   "metadata": {},
   "source": [
    "## Training: E-Risk, BSGS, AMDTSS, E-MTAB\n",
    "## Testing: Denmark"
   ]
  },
  {
   "cell_type": "code",
   "execution_count": null,
   "metadata": {},
   "outputs": [],
   "source": [
    "train_data_DENMARK = pd.concat([data_ERISK, data_BSGS, data_AMDTSS, data_EMTAB])\n",
    "selected_feat_rf_DENMARK = variable_selection(train_data_DENMARK)\n",
    "np.savetxt('selected_feat_rf_DENMARK.txt', selected_feat_rf_DENMARK,fmt='%s')"
   ]
  },
  {
   "cell_type": "markdown",
   "metadata": {},
   "source": [
    "## Training: E-Risk, AMDTSS, E-MTAB, Denmark\n",
    "## Testing: BSGS"
   ]
  },
  {
   "cell_type": "code",
   "execution_count": null,
   "metadata": {},
   "outputs": [],
   "source": [
    "train_data_BSGS = pd.concat([data_ERISK, data_DENMARK, data_AMDTSS, data_EMTAB])\n",
    "selected_feat_rf_BSGS = variable_selection(train_data_BSGS)\n",
    "np.savetxt('selected_feat_rf_BSGS.txt', selected_feat_rf_BSGS,fmt='%s')"
   ]
  },
  {
   "cell_type": "markdown",
   "metadata": {},
   "source": [
    "## Training: BSGS, AMDTSS, E-MTAB, Denmark\n",
    "## Testing: E-Risk"
   ]
  },
  {
   "cell_type": "code",
   "execution_count": null,
   "metadata": {},
   "outputs": [],
   "source": [
    "train_data_ERISK = pd.concat([data_BSGS, data_DENMARK, data_AMDTSS, data_EMTAB])\n",
    "selected_feat_rf_ERISK = variable_selection(train_data_ERISK)\n",
    "np.savetxt('selected_feat_rf_ERISK.txt', selected_feat_rf_ERISK,fmt='%s')"
   ]
  }
 ],
 "metadata": {
  "interpreter": {
   "hash": "b8bdd4e700647ba2b08c59e5df8b7da1dcf50a218bcd4c1bcd9b3dc92e8788e5"
  },
  "kernelspec": {
   "display_name": "Python 3.9.2 64-bit",
   "language": "python",
   "name": "python3"
  },
  "language_info": {
   "codemirror_mode": {
    "name": "ipython",
    "version": 3
   },
   "file_extension": ".py",
   "mimetype": "text/x-python",
   "name": "python",
   "nbconvert_exporter": "python",
   "pygments_lexer": "ipython3",
   "version": "3.9.2"
  },
  "orig_nbformat": 4
 },
 "nbformat": 4,
 "nbformat_minor": 2
}
